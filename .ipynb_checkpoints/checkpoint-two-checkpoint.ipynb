{
 "cells": [
  {
   "cell_type": "markdown",
   "metadata": {
    "azdata_cell_guid": "151601c9-ca7a-412e-af80-c62a87e0837e"
   },
   "source": [
    "# Checkpoint Two: Exploratory Data Analysis\n",
    "\n",
    "Now that your chosen dataset is approved, it is time to start working on your analysis. Use this notebook to perform your EDA and make notes where directed to as you work.\n",
    "\n",
    "## Getting Started\n",
    "\n",
    "Since we have not provided your dataset for you, you will need to load the necessary files in this repository. Make sure to include a link back to the original dataset here as well.\n",
    "\n",
    "My dataset: https://www.kaggle.com/datasets/nwheeler443/gono-unitigs\n",
    "\n",
    "Your first task in EDA is to import necessary libraries and create a dataframe(s). Make note in the form of code comments of what your thought process is as you work on this setup task."
   ]
  },
  {
   "cell_type": "code",
   "execution_count": 39,
   "metadata": {
    "azdata_cell_guid": "7b503e37-6df5-4433-acfb-678b1346db14"
   },
   "outputs": [],
   "source": [
    "import pandas as pd\n",
    "import seaborn as sns\n",
    "\n",
    "import matplotlib.pyplot as plt\n",
    "import matplotlib.mlab as mlab\n",
    "import matplotlib\n",
    "plt.style.use('ggplot')\n",
    "from matplotlib.pyplot import figure\n",
    "\n",
    "\n",
    "# read the data\n",
    "\n",
    "df = pd.read_csv(r\"C:\\Users\\lama_\\Downloads\\metadata.csv\")  "
   ]
  },
  {
   "cell_type": "code",
   "execution_count": 38,
   "metadata": {},
   "outputs": [
    {
     "name": "stdout",
     "output_type": "stream",
     "text": [
      "<class 'pandas.core.frame.DataFrame'>\n",
      "RangeIndex: 3786 entries, 0 to 3785\n",
      "Data columns (total 31 columns):\n",
      " #   Column          Non-Null Count  Dtype  \n",
      "---  ------          --------------  -----  \n",
      " 0   Sample_ID       3786 non-null   object \n",
      " 1   Year            3536 non-null   float64\n",
      " 2   Country         3785 non-null   object \n",
      " 3   Continent       3785 non-null   object \n",
      " 4   Beta.lactamase  1927 non-null   object \n",
      " 5   Azithromycin    3480 non-null   object \n",
      " 6   Ciprofloxacin   3129 non-null   object \n",
      " 7   Ceftriaxone     3436 non-null   object \n",
      " 8   Cefixime        3405 non-null   object \n",
      " 9   Tetracycline    1472 non-null   object \n",
      " 10  Penicillin      1465 non-null   object \n",
      " 11  NG_MAST         3779 non-null   object \n",
      " 12  Group           3786 non-null   int64  \n",
      " 13  azm_mic         3478 non-null   float64\n",
      " 14  cip_mic         3088 non-null   float64\n",
      " 15  cro_mic         3434 non-null   float64\n",
      " 16  cfx_mic         3401 non-null   float64\n",
      " 17  tet_mic         1472 non-null   float64\n",
      " 18  pen_mic         1465 non-null   float64\n",
      " 19  log2_azm_mic    3478 non-null   float64\n",
      " 20  log2_cip_mic    3088 non-null   float64\n",
      " 21  log2_cro_mic    3434 non-null   float64\n",
      " 22  log2_cfx_mic    3401 non-null   float64\n",
      " 23  log2_tet_mic    1472 non-null   float64\n",
      " 24  log2_pen_mic    1465 non-null   float64\n",
      " 25  azm_sr          3478 non-null   float64\n",
      " 26  cip_sr          3088 non-null   float64\n",
      " 27  cro_sr          3434 non-null   float64\n",
      " 28  cfx_sr          3401 non-null   float64\n",
      " 29  tet_sr          1472 non-null   float64\n",
      " 30  pen_sr          1465 non-null   float64\n",
      "dtypes: float64(19), int64(1), object(11)\n",
      "memory usage: 917.0+ KB\n"
     ]
    }
   ],
   "source": [
    "# the data type, non-null values and memory usage.\n",
    "df.info()"
   ]
  },
  {
   "cell_type": "markdown",
   "metadata": {
    "azdata_cell_guid": "129ce836-524b-4ea8-b394-a959f9308d6a"
   },
   "source": [
    "## Get to Know the Numbers\n",
    "\n",
    "Now that you have everything setup, put any code that you use to get to know the dataframe and its rows and columns better in the cell below. You can use whatever techniques you like, except for visualizations. You will put those in a separate section.\n",
    "\n",
    "When working on your code, make sure to leave comments so that your mentors can understand your thought process."
   ]
  },
  {
   "cell_type": "code",
   "execution_count": 36,
   "metadata": {
    "azdata_cell_guid": "0ca2d318-f6e8-43ef-a33e-5304d24d928d",
    "scrolled": true,
    "tags": []
   },
   "outputs": [
    {
     "data": {
      "text/html": [
       "<div>\n",
       "<style scoped>\n",
       "    .dataframe tbody tr th:only-of-type {\n",
       "        vertical-align: middle;\n",
       "    }\n",
       "\n",
       "    .dataframe tbody tr th {\n",
       "        vertical-align: top;\n",
       "    }\n",
       "\n",
       "    .dataframe thead th {\n",
       "        text-align: right;\n",
       "    }\n",
       "</style>\n",
       "<table border=\"1\" class=\"dataframe\">\n",
       "  <thead>\n",
       "    <tr style=\"text-align: right;\">\n",
       "      <th></th>\n",
       "      <th>Sample_ID</th>\n",
       "      <th>Year</th>\n",
       "      <th>Country</th>\n",
       "      <th>Continent</th>\n",
       "      <th>Beta.lactamase</th>\n",
       "      <th>Azithromycin</th>\n",
       "      <th>Ciprofloxacin</th>\n",
       "      <th>Ceftriaxone</th>\n",
       "      <th>Cefixime</th>\n",
       "      <th>Tetracycline</th>\n",
       "      <th>...</th>\n",
       "      <th>log2_cro_mic</th>\n",
       "      <th>log2_cfx_mic</th>\n",
       "      <th>log2_tet_mic</th>\n",
       "      <th>log2_pen_mic</th>\n",
       "      <th>azm_sr</th>\n",
       "      <th>cip_sr</th>\n",
       "      <th>cro_sr</th>\n",
       "      <th>cfx_sr</th>\n",
       "      <th>tet_sr</th>\n",
       "      <th>pen_sr</th>\n",
       "    </tr>\n",
       "  </thead>\n",
       "  <tbody>\n",
       "    <tr>\n",
       "      <th>0</th>\n",
       "      <td>ERR1549286</td>\n",
       "      <td>2015.0</td>\n",
       "      <td>UK</td>\n",
       "      <td>Europe</td>\n",
       "      <td>NaN</td>\n",
       "      <td>&gt;256</td>\n",
       "      <td>NaN</td>\n",
       "      <td>0.016</td>\n",
       "      <td>NaN</td>\n",
       "      <td>NaN</td>\n",
       "      <td>...</td>\n",
       "      <td>-5.965784</td>\n",
       "      <td>NaN</td>\n",
       "      <td>NaN</td>\n",
       "      <td>NaN</td>\n",
       "      <td>1.0</td>\n",
       "      <td>NaN</td>\n",
       "      <td>0.0</td>\n",
       "      <td>NaN</td>\n",
       "      <td>NaN</td>\n",
       "      <td>NaN</td>\n",
       "    </tr>\n",
       "    <tr>\n",
       "      <th>1</th>\n",
       "      <td>ERR1549290</td>\n",
       "      <td>2015.0</td>\n",
       "      <td>UK</td>\n",
       "      <td>Europe</td>\n",
       "      <td>NaN</td>\n",
       "      <td>&gt;256</td>\n",
       "      <td>NaN</td>\n",
       "      <td>0.004</td>\n",
       "      <td>NaN</td>\n",
       "      <td>NaN</td>\n",
       "      <td>...</td>\n",
       "      <td>-7.965784</td>\n",
       "      <td>NaN</td>\n",
       "      <td>NaN</td>\n",
       "      <td>NaN</td>\n",
       "      <td>1.0</td>\n",
       "      <td>NaN</td>\n",
       "      <td>0.0</td>\n",
       "      <td>NaN</td>\n",
       "      <td>NaN</td>\n",
       "      <td>NaN</td>\n",
       "    </tr>\n",
       "    <tr>\n",
       "      <th>2</th>\n",
       "      <td>ERR1549291</td>\n",
       "      <td>2015.0</td>\n",
       "      <td>UK</td>\n",
       "      <td>Europe</td>\n",
       "      <td>NaN</td>\n",
       "      <td>&gt;256</td>\n",
       "      <td>NaN</td>\n",
       "      <td>0.006</td>\n",
       "      <td>NaN</td>\n",
       "      <td>NaN</td>\n",
       "      <td>...</td>\n",
       "      <td>-7.380822</td>\n",
       "      <td>NaN</td>\n",
       "      <td>NaN</td>\n",
       "      <td>NaN</td>\n",
       "      <td>1.0</td>\n",
       "      <td>NaN</td>\n",
       "      <td>0.0</td>\n",
       "      <td>NaN</td>\n",
       "      <td>NaN</td>\n",
       "      <td>NaN</td>\n",
       "    </tr>\n",
       "    <tr>\n",
       "      <th>3</th>\n",
       "      <td>ERR1549287</td>\n",
       "      <td>2015.0</td>\n",
       "      <td>UK</td>\n",
       "      <td>Europe</td>\n",
       "      <td>NaN</td>\n",
       "      <td>&gt;256</td>\n",
       "      <td>NaN</td>\n",
       "      <td>0.006</td>\n",
       "      <td>NaN</td>\n",
       "      <td>NaN</td>\n",
       "      <td>...</td>\n",
       "      <td>-7.380822</td>\n",
       "      <td>NaN</td>\n",
       "      <td>NaN</td>\n",
       "      <td>NaN</td>\n",
       "      <td>1.0</td>\n",
       "      <td>NaN</td>\n",
       "      <td>0.0</td>\n",
       "      <td>NaN</td>\n",
       "      <td>NaN</td>\n",
       "      <td>NaN</td>\n",
       "    </tr>\n",
       "    <tr>\n",
       "      <th>4</th>\n",
       "      <td>ERR1549288</td>\n",
       "      <td>2015.0</td>\n",
       "      <td>UK</td>\n",
       "      <td>Europe</td>\n",
       "      <td>NaN</td>\n",
       "      <td>&gt;256</td>\n",
       "      <td>NaN</td>\n",
       "      <td>0.008</td>\n",
       "      <td>NaN</td>\n",
       "      <td>NaN</td>\n",
       "      <td>...</td>\n",
       "      <td>-6.965784</td>\n",
       "      <td>NaN</td>\n",
       "      <td>NaN</td>\n",
       "      <td>NaN</td>\n",
       "      <td>1.0</td>\n",
       "      <td>NaN</td>\n",
       "      <td>0.0</td>\n",
       "      <td>NaN</td>\n",
       "      <td>NaN</td>\n",
       "      <td>NaN</td>\n",
       "    </tr>\n",
       "  </tbody>\n",
       "</table>\n",
       "<p>5 rows × 31 columns</p>\n",
       "</div>"
      ],
      "text/plain": [
       "    Sample_ID    Year Country Continent Beta.lactamase Azithromycin  \\\n",
       "0  ERR1549286  2015.0      UK    Europe            NaN         >256   \n",
       "1  ERR1549290  2015.0      UK    Europe            NaN         >256   \n",
       "2  ERR1549291  2015.0      UK    Europe            NaN         >256   \n",
       "3  ERR1549287  2015.0      UK    Europe            NaN         >256   \n",
       "4  ERR1549288  2015.0      UK    Europe            NaN         >256   \n",
       "\n",
       "  Ciprofloxacin Ceftriaxone Cefixime Tetracycline  ... log2_cro_mic  \\\n",
       "0           NaN       0.016      NaN          NaN  ...    -5.965784   \n",
       "1           NaN       0.004      NaN          NaN  ...    -7.965784   \n",
       "2           NaN       0.006      NaN          NaN  ...    -7.380822   \n",
       "3           NaN       0.006      NaN          NaN  ...    -7.380822   \n",
       "4           NaN       0.008      NaN          NaN  ...    -6.965784   \n",
       "\n",
       "  log2_cfx_mic  log2_tet_mic  log2_pen_mic  azm_sr  cip_sr  cro_sr  cfx_sr  \\\n",
       "0          NaN           NaN           NaN     1.0     NaN     0.0     NaN   \n",
       "1          NaN           NaN           NaN     1.0     NaN     0.0     NaN   \n",
       "2          NaN           NaN           NaN     1.0     NaN     0.0     NaN   \n",
       "3          NaN           NaN           NaN     1.0     NaN     0.0     NaN   \n",
       "4          NaN           NaN           NaN     1.0     NaN     0.0     NaN   \n",
       "\n",
       "   tet_sr  pen_sr  \n",
       "0     NaN     NaN  \n",
       "1     NaN     NaN  \n",
       "2     NaN     NaN  \n",
       "3     NaN     NaN  \n",
       "4     NaN     NaN  \n",
       "\n",
       "[5 rows x 31 columns]"
      ]
     },
     "execution_count": 36,
     "metadata": {},
     "output_type": "execute_result"
    }
   ],
   "source": [
    "# show the first 5 rows\n",
    "\n",
    "df.head()\n"
   ]
  },
  {
   "cell_type": "code",
   "execution_count": 3,
   "metadata": {},
   "outputs": [
    {
     "data": {
      "text/plain": [
       "(3786, 31)"
      ]
     },
     "execution_count": 3,
     "metadata": {},
     "output_type": "execute_result"
    }
   ],
   "source": [
    "# data dimension\n",
    "\n",
    "df.shape"
   ]
  },
  {
   "cell_type": "code",
   "execution_count": 4,
   "metadata": {},
   "outputs": [
    {
     "data": {
      "text/plain": [
       "Index(['Sample_ID', 'Year', 'Country', 'Continent', 'Beta.lactamase',\n",
       "       'Azithromycin', 'Ciprofloxacin', 'Ceftriaxone', 'Cefixime',\n",
       "       'Tetracycline', 'Penicillin', 'NG_MAST', 'Group', 'azm_mic', 'cip_mic',\n",
       "       'cro_mic', 'cfx_mic', 'tet_mic', 'pen_mic', 'log2_azm_mic',\n",
       "       'log2_cip_mic', 'log2_cro_mic', 'log2_cfx_mic', 'log2_tet_mic',\n",
       "       'log2_pen_mic', 'azm_sr', 'cip_sr', 'cro_sr', 'cfx_sr', 'tet_sr',\n",
       "       'pen_sr'],\n",
       "      dtype='object')"
      ]
     },
     "execution_count": 4,
     "metadata": {},
     "output_type": "execute_result"
    }
   ],
   "source": [
    "# get column names\n",
    "\n",
    "df.columns"
   ]
  },
  {
   "cell_type": "code",
   "execution_count": 42,
   "metadata": {},
   "outputs": [
    {
     "data": {
      "text/html": [
       "<div>\n",
       "<style scoped>\n",
       "    .dataframe tbody tr th:only-of-type {\n",
       "        vertical-align: middle;\n",
       "    }\n",
       "\n",
       "    .dataframe tbody tr th {\n",
       "        vertical-align: top;\n",
       "    }\n",
       "\n",
       "    .dataframe thead th {\n",
       "        text-align: right;\n",
       "    }\n",
       "</style>\n",
       "<table border=\"1\" class=\"dataframe\">\n",
       "  <thead>\n",
       "    <tr style=\"text-align: right;\">\n",
       "      <th></th>\n",
       "      <th>Year</th>\n",
       "      <th>Group</th>\n",
       "      <th>azm_mic</th>\n",
       "      <th>cip_mic</th>\n",
       "      <th>cro_mic</th>\n",
       "      <th>cfx_mic</th>\n",
       "      <th>tet_mic</th>\n",
       "      <th>pen_mic</th>\n",
       "      <th>log2_azm_mic</th>\n",
       "      <th>log2_cip_mic</th>\n",
       "      <th>log2_cro_mic</th>\n",
       "      <th>log2_cfx_mic</th>\n",
       "      <th>log2_tet_mic</th>\n",
       "      <th>log2_pen_mic</th>\n",
       "      <th>azm_sr</th>\n",
       "      <th>cip_sr</th>\n",
       "      <th>cro_sr</th>\n",
       "      <th>cfx_sr</th>\n",
       "      <th>tet_sr</th>\n",
       "      <th>pen_sr</th>\n",
       "    </tr>\n",
       "  </thead>\n",
       "  <tbody>\n",
       "    <tr>\n",
       "      <th>count</th>\n",
       "      <td>3536.000000</td>\n",
       "      <td>3786.000000</td>\n",
       "      <td>3478.000000</td>\n",
       "      <td>3088.000000</td>\n",
       "      <td>3434.000000</td>\n",
       "      <td>3401.000000</td>\n",
       "      <td>1472.00000</td>\n",
       "      <td>1465.000000</td>\n",
       "      <td>3478.000000</td>\n",
       "      <td>3088.000000</td>\n",
       "      <td>3434.000000</td>\n",
       "      <td>3401.000000</td>\n",
       "      <td>1472.000000</td>\n",
       "      <td>1465.000000</td>\n",
       "      <td>3478.000000</td>\n",
       "      <td>3088.000000</td>\n",
       "      <td>3434.000000</td>\n",
       "      <td>3401.00000</td>\n",
       "      <td>1472.000000</td>\n",
       "      <td>1465.00000</td>\n",
       "    </tr>\n",
       "    <tr>\n",
       "      <th>mean</th>\n",
       "      <td>2010.300622</td>\n",
       "      <td>394.334390</td>\n",
       "      <td>17.118781</td>\n",
       "      <td>7.428788</td>\n",
       "      <td>0.029991</td>\n",
       "      <td>0.064405</td>\n",
       "      <td>7.38609</td>\n",
       "      <td>3.044142</td>\n",
       "      <td>-1.107628</td>\n",
       "      <td>-2.043590</td>\n",
       "      <td>-6.203940</td>\n",
       "      <td>-5.164221</td>\n",
       "      <td>0.835492</td>\n",
       "      <td>-0.427788</td>\n",
       "      <td>0.128522</td>\n",
       "      <td>0.462435</td>\n",
       "      <td>0.001165</td>\n",
       "      <td>0.00147</td>\n",
       "      <td>0.554348</td>\n",
       "      <td>0.34744</td>\n",
       "    </tr>\n",
       "    <tr>\n",
       "      <th>std</th>\n",
       "      <td>4.670817</td>\n",
       "      <td>326.263267</td>\n",
       "      <td>90.864520</td>\n",
       "      <td>11.266796</td>\n",
       "      <td>0.080375</td>\n",
       "      <td>0.199151</td>\n",
       "      <td>22.10079</td>\n",
       "      <td>15.447995</td>\n",
       "      <td>2.749441</td>\n",
       "      <td>5.444110</td>\n",
       "      <td>1.772691</td>\n",
       "      <td>1.664672</td>\n",
       "      <td>2.337490</td>\n",
       "      <td>2.259337</td>\n",
       "      <td>0.334718</td>\n",
       "      <td>0.498668</td>\n",
       "      <td>0.034115</td>\n",
       "      <td>0.03832</td>\n",
       "      <td>0.497206</td>\n",
       "      <td>0.47632</td>\n",
       "    </tr>\n",
       "    <tr>\n",
       "      <th>min</th>\n",
       "      <td>1979.000000</td>\n",
       "      <td>0.000000</td>\n",
       "      <td>0.004000</td>\n",
       "      <td>0.001000</td>\n",
       "      <td>0.000250</td>\n",
       "      <td>0.001000</td>\n",
       "      <td>0.00800</td>\n",
       "      <td>0.002000</td>\n",
       "      <td>-7.965784</td>\n",
       "      <td>-9.965784</td>\n",
       "      <td>-11.965784</td>\n",
       "      <td>-9.965784</td>\n",
       "      <td>-6.965784</td>\n",
       "      <td>-8.965784</td>\n",
       "      <td>0.000000</td>\n",
       "      <td>0.000000</td>\n",
       "      <td>0.000000</td>\n",
       "      <td>0.00000</td>\n",
       "      <td>0.000000</td>\n",
       "      <td>0.00000</td>\n",
       "    </tr>\n",
       "    <tr>\n",
       "      <th>25%</th>\n",
       "      <td>2009.000000</td>\n",
       "      <td>134.000000</td>\n",
       "      <td>0.125000</td>\n",
       "      <td>0.004000</td>\n",
       "      <td>0.004000</td>\n",
       "      <td>0.015000</td>\n",
       "      <td>0.50000</td>\n",
       "      <td>0.250000</td>\n",
       "      <td>-3.000000</td>\n",
       "      <td>-7.965784</td>\n",
       "      <td>-7.965784</td>\n",
       "      <td>-6.058894</td>\n",
       "      <td>-1.000000</td>\n",
       "      <td>-2.000000</td>\n",
       "      <td>0.000000</td>\n",
       "      <td>0.000000</td>\n",
       "      <td>0.000000</td>\n",
       "      <td>0.00000</td>\n",
       "      <td>0.000000</td>\n",
       "      <td>0.00000</td>\n",
       "    </tr>\n",
       "    <tr>\n",
       "      <th>50%</th>\n",
       "      <td>2012.000000</td>\n",
       "      <td>275.000000</td>\n",
       "      <td>0.380000</td>\n",
       "      <td>0.094000</td>\n",
       "      <td>0.015000</td>\n",
       "      <td>0.016000</td>\n",
       "      <td>2.00000</td>\n",
       "      <td>0.500000</td>\n",
       "      <td>-1.395929</td>\n",
       "      <td>-3.411195</td>\n",
       "      <td>-6.058894</td>\n",
       "      <td>-5.965784</td>\n",
       "      <td>1.000000</td>\n",
       "      <td>-1.000000</td>\n",
       "      <td>0.000000</td>\n",
       "      <td>0.000000</td>\n",
       "      <td>0.000000</td>\n",
       "      <td>0.00000</td>\n",
       "      <td>1.000000</td>\n",
       "      <td>0.00000</td>\n",
       "    </tr>\n",
       "    <tr>\n",
       "      <th>75%</th>\n",
       "      <td>2013.000000</td>\n",
       "      <td>618.000000</td>\n",
       "      <td>1.000000</td>\n",
       "      <td>16.000000</td>\n",
       "      <td>0.032000</td>\n",
       "      <td>0.060000</td>\n",
       "      <td>4.00000</td>\n",
       "      <td>2.000000</td>\n",
       "      <td>0.000000</td>\n",
       "      <td>4.000000</td>\n",
       "      <td>-4.965784</td>\n",
       "      <td>-4.058894</td>\n",
       "      <td>2.000000</td>\n",
       "      <td>1.000000</td>\n",
       "      <td>0.000000</td>\n",
       "      <td>1.000000</td>\n",
       "      <td>0.000000</td>\n",
       "      <td>0.00000</td>\n",
       "      <td>1.000000</td>\n",
       "      <td>1.00000</td>\n",
       "    </tr>\n",
       "    <tr>\n",
       "      <th>max</th>\n",
       "      <td>2017.000000</td>\n",
       "      <td>1078.000000</td>\n",
       "      <td>1024.000000</td>\n",
       "      <td>64.000000</td>\n",
       "      <td>2.000000</td>\n",
       "      <td>8.000000</td>\n",
       "      <td>256.00000</td>\n",
       "      <td>512.000000</td>\n",
       "      <td>10.000000</td>\n",
       "      <td>6.000000</td>\n",
       "      <td>1.000000</td>\n",
       "      <td>3.000000</td>\n",
       "      <td>8.000000</td>\n",
       "      <td>9.000000</td>\n",
       "      <td>1.000000</td>\n",
       "      <td>1.000000</td>\n",
       "      <td>1.000000</td>\n",
       "      <td>1.00000</td>\n",
       "      <td>1.000000</td>\n",
       "      <td>1.00000</td>\n",
       "    </tr>\n",
       "  </tbody>\n",
       "</table>\n",
       "</div>"
      ],
      "text/plain": [
       "              Year        Group      azm_mic      cip_mic      cro_mic  \\\n",
       "count  3536.000000  3786.000000  3478.000000  3088.000000  3434.000000   \n",
       "mean   2010.300622   394.334390    17.118781     7.428788     0.029991   \n",
       "std       4.670817   326.263267    90.864520    11.266796     0.080375   \n",
       "min    1979.000000     0.000000     0.004000     0.001000     0.000250   \n",
       "25%    2009.000000   134.000000     0.125000     0.004000     0.004000   \n",
       "50%    2012.000000   275.000000     0.380000     0.094000     0.015000   \n",
       "75%    2013.000000   618.000000     1.000000    16.000000     0.032000   \n",
       "max    2017.000000  1078.000000  1024.000000    64.000000     2.000000   \n",
       "\n",
       "           cfx_mic     tet_mic      pen_mic  log2_azm_mic  log2_cip_mic  \\\n",
       "count  3401.000000  1472.00000  1465.000000   3478.000000   3088.000000   \n",
       "mean      0.064405     7.38609     3.044142     -1.107628     -2.043590   \n",
       "std       0.199151    22.10079    15.447995      2.749441      5.444110   \n",
       "min       0.001000     0.00800     0.002000     -7.965784     -9.965784   \n",
       "25%       0.015000     0.50000     0.250000     -3.000000     -7.965784   \n",
       "50%       0.016000     2.00000     0.500000     -1.395929     -3.411195   \n",
       "75%       0.060000     4.00000     2.000000      0.000000      4.000000   \n",
       "max       8.000000   256.00000   512.000000     10.000000      6.000000   \n",
       "\n",
       "       log2_cro_mic  log2_cfx_mic  log2_tet_mic  log2_pen_mic       azm_sr  \\\n",
       "count   3434.000000   3401.000000   1472.000000   1465.000000  3478.000000   \n",
       "mean      -6.203940     -5.164221      0.835492     -0.427788     0.128522   \n",
       "std        1.772691      1.664672      2.337490      2.259337     0.334718   \n",
       "min      -11.965784     -9.965784     -6.965784     -8.965784     0.000000   \n",
       "25%       -7.965784     -6.058894     -1.000000     -2.000000     0.000000   \n",
       "50%       -6.058894     -5.965784      1.000000     -1.000000     0.000000   \n",
       "75%       -4.965784     -4.058894      2.000000      1.000000     0.000000   \n",
       "max        1.000000      3.000000      8.000000      9.000000     1.000000   \n",
       "\n",
       "            cip_sr       cro_sr      cfx_sr       tet_sr      pen_sr  \n",
       "count  3088.000000  3434.000000  3401.00000  1472.000000  1465.00000  \n",
       "mean      0.462435     0.001165     0.00147     0.554348     0.34744  \n",
       "std       0.498668     0.034115     0.03832     0.497206     0.47632  \n",
       "min       0.000000     0.000000     0.00000     0.000000     0.00000  \n",
       "25%       0.000000     0.000000     0.00000     0.000000     0.00000  \n",
       "50%       0.000000     0.000000     0.00000     1.000000     0.00000  \n",
       "75%       1.000000     0.000000     0.00000     1.000000     1.00000  \n",
       "max       1.000000     1.000000     1.00000     1.000000     1.00000  "
      ]
     },
     "execution_count": 42,
     "metadata": {},
     "output_type": "execute_result"
    }
   ],
   "source": [
    "# descriptive information about the dataset\n",
    "\n",
    "df.describe()"
   ]
  },
  {
   "cell_type": "code",
   "execution_count": 5,
   "metadata": {
    "scrolled": true
   },
   "outputs": [
    {
     "data": {
      "text/plain": [
       "Sample_ID            0\n",
       "Year               250\n",
       "Country              1\n",
       "Continent            1\n",
       "Beta.lactamase    1859\n",
       "Azithromycin       306\n",
       "Ciprofloxacin      657\n",
       "Ceftriaxone        350\n",
       "Cefixime           381\n",
       "Tetracycline      2314\n",
       "Penicillin        2321\n",
       "NG_MAST              7\n",
       "Group                0\n",
       "azm_mic            308\n",
       "cip_mic            698\n",
       "cro_mic            352\n",
       "cfx_mic            385\n",
       "tet_mic           2314\n",
       "pen_mic           2321\n",
       "log2_azm_mic       308\n",
       "log2_cip_mic       698\n",
       "log2_cro_mic       352\n",
       "log2_cfx_mic       385\n",
       "log2_tet_mic      2314\n",
       "log2_pen_mic      2321\n",
       "azm_sr             308\n",
       "cip_sr             698\n",
       "cro_sr             352\n",
       "cfx_sr             385\n",
       "tet_sr            2314\n",
       "pen_sr            2321\n",
       "dtype: int64"
      ]
     },
     "execution_count": 5,
     "metadata": {},
     "output_type": "execute_result"
    }
   ],
   "source": [
    "# check for missing values\n",
    "\n",
    "df.isnull().sum()"
   ]
  },
  {
   "cell_type": "code",
   "execution_count": 48,
   "metadata": {},
   "outputs": [
    {
     "data": {
      "text/plain": [
       "Sample_ID          0.000000\n",
       "Year               6.603275\n",
       "Country            0.026413\n",
       "Continent          0.026413\n",
       "Beta.lactamase    49.101955\n",
       "Azithromycin       8.082409\n",
       "Ciprofloxacin     17.353407\n",
       "Ceftriaxone        9.244585\n",
       "Cefixime          10.063391\n",
       "Tetracycline      61.119915\n",
       "Penicillin        61.304807\n",
       "NG_MAST            0.184892\n",
       "Group              0.000000\n",
       "azm_mic            8.135235\n",
       "cip_mic           18.436344\n",
       "cro_mic            9.297412\n",
       "cfx_mic           10.169044\n",
       "tet_mic           61.119915\n",
       "pen_mic           61.304807\n",
       "log2_azm_mic       8.135235\n",
       "log2_cip_mic      18.436344\n",
       "log2_cro_mic       9.297412\n",
       "log2_cfx_mic      10.169044\n",
       "log2_tet_mic      61.119915\n",
       "log2_pen_mic      61.304807\n",
       "azm_sr             8.135235\n",
       "cip_sr            18.436344\n",
       "cro_sr             9.297412\n",
       "cfx_sr            10.169044\n",
       "tet_sr            61.119915\n",
       "pen_sr            61.304807\n",
       "dtype: float64"
      ]
     },
     "execution_count": 48,
     "metadata": {},
     "output_type": "execute_result"
    }
   ],
   "source": [
    "# % of missing values\n",
    "\n",
    "percent_missing = df.isnull().sum() * 100 / len(df)\n",
    "percent_missing \n"
   ]
  },
  {
   "cell_type": "code",
   "execution_count": 44,
   "metadata": {},
   "outputs": [
    {
     "data": {
      "text/plain": [
       "0"
      ]
     },
     "execution_count": 44,
     "metadata": {},
     "output_type": "execute_result"
    }
   ],
   "source": [
    "# check for duplicate rows\n",
    "df.duplicated().sum()"
   ]
  },
  {
   "cell_type": "code",
   "execution_count": 7,
   "metadata": {},
   "outputs": [
    {
     "data": {
      "text/plain": [
       "0.25           698\n",
       "0.5            697\n",
       "0.125          297\n",
       "1              277\n",
       "2              186\n",
       "8              151\n",
       "0.12           110\n",
       "0.06           107\n",
       ">256           101\n",
       "0.19            97\n",
       "4               92\n",
       "16              89\n",
       "0.03            88\n",
       "0.38            80\n",
       "0.094           73\n",
       "0.064           66\n",
       "0.75            60\n",
       "0.047           57\n",
       "0.032           51\n",
       "0.016           41\n",
       "0.063           24\n",
       "0.023           14\n",
       "1.5              6\n",
       "3                3\n",
       ">=512            3\n",
       "12               3\n",
       "32               3\n",
       "0.015            1\n",
       "6                1\n",
       ">=256/>=512      1\n",
       ">=64/>=512       1\n",
       "<=0.008          1\n",
       "256              1\n",
       "Name: Azithromycin, dtype: int64"
      ]
     },
     "execution_count": 7,
     "metadata": {},
     "output_type": "execute_result"
    }
   ],
   "source": [
    "# mic value counts for all isolates.  # mic = minimum inhibitory concentration\n",
    "\n",
    "df['Azithromycin'].value_counts()"
   ]
  },
  {
   "cell_type": "code",
   "execution_count": 8,
   "metadata": {},
   "outputs": [
    {
     "data": {
      "text/plain": [
       "16        483\n",
       "0.004     412\n",
       "0.015     357\n",
       "32        329\n",
       "0.002     244\n",
       "8         229\n",
       "4         196\n",
       "0.008     147\n",
       "0.003     114\n",
       "0.03      114\n",
       "2          84\n",
       "0.006      53\n",
       "1          33\n",
       "0.007      32\n",
       "0.016      27\n",
       "3          27\n",
       "S          26\n",
       "6          21\n",
       "0.25       19\n",
       "1.5        16\n",
       "R          15\n",
       "0.5        15\n",
       "0.012      15\n",
       "12         14\n",
       "0.125      13\n",
       "0.75       13\n",
       ">32        12\n",
       "24         10\n",
       "0.12        9\n",
       "0.38        7\n",
       "0.023       5\n",
       "0.06        5\n",
       "0.064       5\n",
       "0.032       4\n",
       "64          4\n",
       "0.19        4\n",
       "0.094       3\n",
       "0.047       3\n",
       "<0.002      3\n",
       ">=32        2\n",
       "0.02        1\n",
       "0.0169      1\n",
       "0.063       1\n",
       ">0.5        1\n",
       ">16         1\n",
       "Name: Ciprofloxacin, dtype: int64"
      ]
     },
     "execution_count": 8,
     "metadata": {},
     "output_type": "execute_result"
    }
   ],
   "source": [
    "df['Ciprofloxacin'].value_counts()"
   ]
  },
  {
   "cell_type": "code",
   "execution_count": 9,
   "metadata": {},
   "outputs": [
    {
     "data": {
      "text/plain": [
       "0.008       585\n",
       "0.004       451\n",
       "0.03        305\n",
       "0.002       285\n",
       "0.06        277\n",
       "0.015       240\n",
       "0.016       180\n",
       "0.032       164\n",
       "0.125       153\n",
       "0.003       129\n",
       "0.023       105\n",
       "0.006       104\n",
       "0.012        97\n",
       "0.063        91\n",
       "0.047        88\n",
       "0.064        60\n",
       "0.094        46\n",
       "0.007        16\n",
       "0.001        15\n",
       "0.25         13\n",
       "0.12          6\n",
       "0.5           4\n",
       "2             4\n",
       "0.0005        3\n",
       "0.19          3\n",
       "0.0015        2\n",
       "7.00E-04      2\n",
       "1             2\n",
       "S             2\n",
       "<=0.032       1\n",
       "0.00025       1\n",
       "3.00E-04      1\n",
       "<0.002        1\n",
       "Name: Ceftriaxone, dtype: int64"
      ]
     },
     "execution_count": 9,
     "metadata": {},
     "output_type": "execute_result"
    }
   ],
   "source": [
    "df['Ceftriaxone'].value_counts()"
   ]
  },
  {
   "cell_type": "code",
   "execution_count": 10,
   "metadata": {},
   "outputs": [
    {
     "data": {
      "text/plain": [
       "0.016      916\n",
       "0.008      400\n",
       "0.015      332\n",
       "0.03       324\n",
       "0.25       307\n",
       "0.125      195\n",
       "0.06       181\n",
       "0.032      147\n",
       "0.023      105\n",
       "0.004      104\n",
       "0.047       78\n",
       "0.064       48\n",
       "0.094       45\n",
       "0.063       42\n",
       "<0.016      33\n",
       "0.19        30\n",
       "0.5         30\n",
       "0.12        30\n",
       "0.002       25\n",
       "0.007       10\n",
       "0.38         5\n",
       "1            5\n",
       "0.001        2\n",
       "4            2\n",
       "S            2\n",
       "< 0.016      2\n",
       "<=0.032      1\n",
       ">=4          1\n",
       "0.75         1\n",
       "3            1\n",
       "2            1\n",
       "Name: Cefixime, dtype: int64"
      ]
     },
     "execution_count": 10,
     "metadata": {},
     "output_type": "execute_result"
    }
   ],
   "source": [
    "df['Cefixime'].value_counts()"
   ]
  },
  {
   "cell_type": "markdown",
   "metadata": {
    "azdata_cell_guid": "d45060f3-97bc-484a-9ef4-66145bbe9427"
   },
   "source": [
    "## Visualize\n",
    "\n",
    "Create any visualizations for your EDA here. Make note in the form of code comments of what your thought process is for your visualizations."
   ]
  },
  {
   "cell_type": "code",
   "execution_count": 22,
   "metadata": {},
   "outputs": [
    {
     "name": "stderr",
     "output_type": "stream",
     "text": [
      "C:\\Users\\lama_\\AppData\\Local\\Temp\\ipykernel_13804\\3559413674.py:3: FutureWarning: this method is deprecated in favour of `Styler.format(precision=..)`\n",
      "  corr.style.background_gradient(cmap='coolwarm').set_precision(2)\n"
     ]
    },
    {
     "data": {
      "text/html": [
       "<style type=\"text/css\">\n",
       "#T_6a6dc_row0_col0, #T_6a6dc_row1_col1, #T_6a6dc_row2_col2, #T_6a6dc_row3_col3, #T_6a6dc_row4_col4, #T_6a6dc_row5_col5 {\n",
       "  background-color: #b40426;\n",
       "  color: #f1f1f1;\n",
       "}\n",
       "#T_6a6dc_row0_col1, #T_6a6dc_row0_col2, #T_6a6dc_row0_col3, #T_6a6dc_row0_col4, #T_6a6dc_row0_col5, #T_6a6dc_row1_col0 {\n",
       "  background-color: #3b4cc0;\n",
       "  color: #f1f1f1;\n",
       "}\n",
       "#T_6a6dc_row1_col2 {\n",
       "  background-color: #4a63d3;\n",
       "  color: #f1f1f1;\n",
       "}\n",
       "#T_6a6dc_row1_col3 {\n",
       "  background-color: #4c66d6;\n",
       "  color: #f1f1f1;\n",
       "}\n",
       "#T_6a6dc_row1_col4 {\n",
       "  background-color: #e4d9d2;\n",
       "  color: #000000;\n",
       "}\n",
       "#T_6a6dc_row1_col5 {\n",
       "  background-color: #bed2f6;\n",
       "  color: #000000;\n",
       "}\n",
       "#T_6a6dc_row2_col0 {\n",
       "  background-color: #536edd;\n",
       "  color: #f1f1f1;\n",
       "}\n",
       "#T_6a6dc_row2_col1 {\n",
       "  background-color: #6282ea;\n",
       "  color: #f1f1f1;\n",
       "}\n",
       "#T_6a6dc_row2_col3, #T_6a6dc_row3_col2 {\n",
       "  background-color: #d75445;\n",
       "  color: #f1f1f1;\n",
       "}\n",
       "#T_6a6dc_row2_col4 {\n",
       "  background-color: #6485ec;\n",
       "  color: #f1f1f1;\n",
       "}\n",
       "#T_6a6dc_row2_col5 {\n",
       "  background-color: #465ecf;\n",
       "  color: #f1f1f1;\n",
       "}\n",
       "#T_6a6dc_row3_col0, #T_6a6dc_row4_col3 {\n",
       "  background-color: #516ddb;\n",
       "  color: #f1f1f1;\n",
       "}\n",
       "#T_6a6dc_row3_col1 {\n",
       "  background-color: #6384eb;\n",
       "  color: #f1f1f1;\n",
       "}\n",
       "#T_6a6dc_row3_col4 {\n",
       "  background-color: #6687ed;\n",
       "  color: #f1f1f1;\n",
       "}\n",
       "#T_6a6dc_row3_col5 {\n",
       "  background-color: #4358cb;\n",
       "  color: #f1f1f1;\n",
       "}\n",
       "#T_6a6dc_row4_col0 {\n",
       "  background-color: #3d50c3;\n",
       "  color: #f1f1f1;\n",
       "}\n",
       "#T_6a6dc_row4_col1 {\n",
       "  background-color: #e5d8d1;\n",
       "  color: #000000;\n",
       "}\n",
       "#T_6a6dc_row4_col2 {\n",
       "  background-color: #4f69d9;\n",
       "  color: #f1f1f1;\n",
       "}\n",
       "#T_6a6dc_row4_col5 {\n",
       "  background-color: #d2dbe8;\n",
       "  color: #000000;\n",
       "}\n",
       "#T_6a6dc_row5_col0 {\n",
       "  background-color: #4e68d8;\n",
       "  color: #f1f1f1;\n",
       "}\n",
       "#T_6a6dc_row5_col1 {\n",
       "  background-color: #cad8ef;\n",
       "  color: #000000;\n",
       "}\n",
       "#T_6a6dc_row5_col2 {\n",
       "  background-color: #4257c9;\n",
       "  color: #f1f1f1;\n",
       "}\n",
       "#T_6a6dc_row5_col3 {\n",
       "  background-color: #3f53c6;\n",
       "  color: #f1f1f1;\n",
       "}\n",
       "#T_6a6dc_row5_col4 {\n",
       "  background-color: #d9dce1;\n",
       "  color: #000000;\n",
       "}\n",
       "</style>\n",
       "<table id=\"T_6a6dc\">\n",
       "  <thead>\n",
       "    <tr>\n",
       "      <th class=\"blank level0\" >&nbsp;</th>\n",
       "      <th id=\"T_6a6dc_level0_col0\" class=\"col_heading level0 col0\" >azm_sr</th>\n",
       "      <th id=\"T_6a6dc_level0_col1\" class=\"col_heading level0 col1\" >cip_sr</th>\n",
       "      <th id=\"T_6a6dc_level0_col2\" class=\"col_heading level0 col2\" >cro_sr</th>\n",
       "      <th id=\"T_6a6dc_level0_col3\" class=\"col_heading level0 col3\" >cfx_sr</th>\n",
       "      <th id=\"T_6a6dc_level0_col4\" class=\"col_heading level0 col4\" >tet_sr</th>\n",
       "      <th id=\"T_6a6dc_level0_col5\" class=\"col_heading level0 col5\" >pen_sr</th>\n",
       "    </tr>\n",
       "  </thead>\n",
       "  <tbody>\n",
       "    <tr>\n",
       "      <th id=\"T_6a6dc_level0_row0\" class=\"row_heading level0 row0\" >azm_sr</th>\n",
       "      <td id=\"T_6a6dc_row0_col0\" class=\"data row0 col0\" >1.00</td>\n",
       "      <td id=\"T_6a6dc_row0_col1\" class=\"data row0 col1\" >-0.10</td>\n",
       "      <td id=\"T_6a6dc_row0_col2\" class=\"data row0 col2\" >-0.01</td>\n",
       "      <td id=\"T_6a6dc_row0_col3\" class=\"data row0 col3\" >-0.01</td>\n",
       "      <td id=\"T_6a6dc_row0_col4\" class=\"data row0 col4\" >-0.09</td>\n",
       "      <td id=\"T_6a6dc_row0_col5\" class=\"data row0 col5\" >-0.03</td>\n",
       "    </tr>\n",
       "    <tr>\n",
       "      <th id=\"T_6a6dc_level0_row1\" class=\"row_heading level0 row1\" >cip_sr</th>\n",
       "      <td id=\"T_6a6dc_row1_col0\" class=\"data row1 col0\" >-0.10</td>\n",
       "      <td id=\"T_6a6dc_row1_col1\" class=\"data row1 col1\" >1.00</td>\n",
       "      <td id=\"T_6a6dc_row1_col2\" class=\"data row1 col2\" >0.04</td>\n",
       "      <td id=\"T_6a6dc_row1_col3\" class=\"data row1 col3\" >0.05</td>\n",
       "      <td id=\"T_6a6dc_row1_col4\" class=\"data row1 col4\" >0.49</td>\n",
       "      <td id=\"T_6a6dc_row1_col5\" class=\"data row1 col5\" >0.38</td>\n",
       "    </tr>\n",
       "    <tr>\n",
       "      <th id=\"T_6a6dc_level0_row2\" class=\"row_heading level0 row2\" >cro_sr</th>\n",
       "      <td id=\"T_6a6dc_row2_col0\" class=\"data row2 col0\" >-0.01</td>\n",
       "      <td id=\"T_6a6dc_row2_col1\" class=\"data row2 col1\" >0.04</td>\n",
       "      <td id=\"T_6a6dc_row2_col2\" class=\"data row2 col2\" >1.00</td>\n",
       "      <td id=\"T_6a6dc_row2_col3\" class=\"data row2 col3\" >0.89</td>\n",
       "      <td id=\"T_6a6dc_row2_col4\" class=\"data row2 col4\" >0.06</td>\n",
       "      <td id=\"T_6a6dc_row2_col5\" class=\"data row2 col5\" >0.01</td>\n",
       "    </tr>\n",
       "    <tr>\n",
       "      <th id=\"T_6a6dc_level0_row3\" class=\"row_heading level0 row3\" >cfx_sr</th>\n",
       "      <td id=\"T_6a6dc_row3_col0\" class=\"data row3 col0\" >-0.01</td>\n",
       "      <td id=\"T_6a6dc_row3_col1\" class=\"data row3 col1\" >0.05</td>\n",
       "      <td id=\"T_6a6dc_row3_col2\" class=\"data row3 col2\" >0.89</td>\n",
       "      <td id=\"T_6a6dc_row3_col3\" class=\"data row3 col3\" >1.00</td>\n",
       "      <td id=\"T_6a6dc_row3_col4\" class=\"data row3 col4\" >0.06</td>\n",
       "      <td id=\"T_6a6dc_row3_col5\" class=\"data row3 col5\" >0.00</td>\n",
       "    </tr>\n",
       "    <tr>\n",
       "      <th id=\"T_6a6dc_level0_row4\" class=\"row_heading level0 row4\" >tet_sr</th>\n",
       "      <td id=\"T_6a6dc_row4_col0\" class=\"data row4 col0\" >-0.09</td>\n",
       "      <td id=\"T_6a6dc_row4_col1\" class=\"data row4 col1\" >0.49</td>\n",
       "      <td id=\"T_6a6dc_row4_col2\" class=\"data row4 col2\" >0.06</td>\n",
       "      <td id=\"T_6a6dc_row4_col3\" class=\"data row4 col3\" >0.06</td>\n",
       "      <td id=\"T_6a6dc_row4_col4\" class=\"data row4 col4\" >1.00</td>\n",
       "      <td id=\"T_6a6dc_row4_col5\" class=\"data row4 col5\" >0.44</td>\n",
       "    </tr>\n",
       "    <tr>\n",
       "      <th id=\"T_6a6dc_level0_row5\" class=\"row_heading level0 row5\" >pen_sr</th>\n",
       "      <td id=\"T_6a6dc_row5_col0\" class=\"data row5 col0\" >-0.03</td>\n",
       "      <td id=\"T_6a6dc_row5_col1\" class=\"data row5 col1\" >0.38</td>\n",
       "      <td id=\"T_6a6dc_row5_col2\" class=\"data row5 col2\" >0.01</td>\n",
       "      <td id=\"T_6a6dc_row5_col3\" class=\"data row5 col3\" >0.00</td>\n",
       "      <td id=\"T_6a6dc_row5_col4\" class=\"data row5 col4\" >0.44</td>\n",
       "      <td id=\"T_6a6dc_row5_col5\" class=\"data row5 col5\" >1.00</td>\n",
       "    </tr>\n",
       "  </tbody>\n",
       "</table>\n"
      ],
      "text/plain": [
       "<pandas.io.formats.style.Styler at 0x19d3ce45160>"
      ]
     },
     "execution_count": 22,
     "metadata": {},
     "output_type": "execute_result"
    }
   ],
   "source": [
    "# correlation between sensitivity and resistance to different antibiotics\n",
    "\n",
    "corr = df[['azm_sr', 'cip_sr', 'cro_sr', 'cfx_sr', 'tet_sr',\n",
    "       'pen_sr']].corr()\n",
    "corr.style.background_gradient(cmap='coolwarm').set_precision(2)"
   ]
  },
  {
   "cell_type": "code",
   "execution_count": 14,
   "metadata": {
    "azdata_cell_guid": "cd64bab1-db4c-4295-820d-c6464b653a3e"
   },
   "outputs": [
    {
     "data": {
      "text/plain": [
       "<AxesSubplot:xlabel='Year', ylabel='log2_azm_mic'>"
      ]
     },
     "execution_count": 14,
     "metadata": {},
     "output_type": "execute_result"
    },
    {
     "data": {
      "image/png": "[encoded data removed]",
      "text/plain": [
       "<Figure size 432x288 with 1 Axes>"
      ]
     },
     "metadata": {
      "needs_background": "light"
     },
     "output_type": "display_data"
    }
   ],
   "source": [
    "# trend of mic values  of all isolates between different years\n",
    "\n",
    "sns.scatterplot(data= df, x='Year', y='log2_azm_mic')\n"
   ]
  },
  {
   "cell_type": "code",
   "execution_count": 24,
   "metadata": {},
   "outputs": [
    {
     "data": {
      "text/plain": [
       "<AxesSubplot:xlabel='Year', ylabel='log2_cip_mic'>"
      ]
     },
     "execution_count": 24,
     "metadata": {},
     "output_type": "execute_result"
    },
    {
     "data": {
      "image/png": "[encoded data removed]",
      "text/plain": [
       "<Figure size 432x288 with 1 Axes>"
      ]
     },
     "metadata": {
      "needs_background": "light"
     },
     "output_type": "display_data"
    }
   ],
   "source": [
    "\n",
    "sns.scatterplot(data= df, x='Year', y='log2_cip_mic')"
   ]
  },
  {
   "cell_type": "code",
   "execution_count": 27,
   "metadata": {},
   "outputs": [
    {
     "data": {
      "text/plain": [
       "<AxesSubplot:xlabel='Year', ylabel='log2_cro_mic'>"
      ]
     },
     "execution_count": 27,
     "metadata": {},
     "output_type": "execute_result"
    },
    {
     "data": {
      "image/png": "[encoded data removed]",
      "text/plain": [
       "<Figure size 432x288 with 1 Axes>"
      ]
     },
     "metadata": {
      "needs_background": "light"
     },
     "output_type": "display_data"
    }
   ],
   "source": [
    "\n",
    "sns.scatterplot(data= df, x='Year', y='log2_cro_mic')"
   ]
  },
  {
   "cell_type": "code",
   "execution_count": 26,
   "metadata": {},
   "outputs": [
    {
     "data": {
      "text/plain": [
       "<AxesSubplot:xlabel='Year', ylabel='log2_cfx_mic'>"
      ]
     },
     "execution_count": 26,
     "metadata": {},
     "output_type": "execute_result"
    },
    {
     "data": {
      "image/png": "[encoded data removed]",
      "text/plain": [
       "<Figure size 432x288 with 1 Axes>"
      ]
     },
     "metadata": {
      "needs_background": "light"
     },
     "output_type": "display_data"
    }
   ],
   "source": [
    "\n",
    "sns.scatterplot(data= df, x='Year', y='log2_cfx_mic')"
   ]
  },
  {
   "cell_type": "code",
   "execution_count": 25,
   "metadata": {},
   "outputs": [
    {
     "data": {
      "text/plain": [
       "<AxesSubplot:xlabel='Year', ylabel='log2_pen_mic'>"
      ]
     },
     "execution_count": 25,
     "metadata": {},
     "output_type": "execute_result"
    },
    {
     "data": {
      "image/png": "[encoded data removed]",
      "text/plain": [
       "<Figure size 432x288 with 1 Axes>"
      ]
     },
     "metadata": {
      "needs_background": "light"
     },
     "output_type": "display_data"
    }
   ],
   "source": [
    "\n",
    "sns.scatterplot(data= df, x='Year', y='log2_pen_mic')"
   ]
  },
  {
   "cell_type": "code",
   "execution_count": 28,
   "metadata": {},
   "outputs": [
    {
     "data": {
      "text/plain": [
       "<AxesSubplot:xlabel='Year', ylabel='log2_tet_mic'>"
      ]
     },
     "execution_count": 28,
     "metadata": {},
     "output_type": "execute_result"
    },
    {
     "data": {
      "image/png": "[encoded data removed]",
      "text/plain": [
       "<Figure size 432x288 with 1 Axes>"
      ]
     },
     "metadata": {
      "needs_background": "light"
     },
     "output_type": "display_data"
    }
   ],
   "source": [
    "\n",
    "sns.scatterplot(data= df, x='Year', y='log2_tet_mic')"
   ]
  },
  {
   "cell_type": "markdown",
   "metadata": {
    "azdata_cell_guid": "d4931c0c-2c09-4ee1-95d4-73dd08c2f0a6"
   },
   "source": [
    "## Summarize Your Results\n",
    "\n",
    "With your EDA complete, answer the following questions.\n",
    "\n",
    "1. Was there anything surprising about your dataset? \n",
    "\n",
    "Answer: It was somewhat surprising that trend of resistance to all six types of antibiotics increased with time.\n",
    "\n",
    "\n",
    "2. Do you have any concerns about your dataset? \n",
    "\n",
    "Answer: This dataset contains many missing values.\n",
    "\n",
    "3. Is there anything you want to make note of for the next phase of your analysis, which is cleaning data? \n",
    "\n",
    "Answer: Tetracycline and penicillin's  missing value is more than 61%, so both the columns should be dropped. Those antibiotics are not used as front line therapy, that might be one of the reasons for missing values. For the remaining antibiotics columns, the missing values can be filled with aggregated values.  "
   ]
  }
 ],
 "metadata": {
  "kernelspec": {
   "display_name": "Python 3 (ipykernel)",
   "language": "python",
   "name": "python3"
  },
  "language_info": {
   "codemirror_mode": {
    "name": "ipython",
    "version": 3
   },
   "file_extension": ".py",
   "mimetype": "text/x-python",
   "name": "python",
   "nbconvert_exporter": "python",
   "pygments_lexer": "ipython3",
   "version": "3.9.12"
  }
 },
 "nbformat": 4,
 "nbformat_minor": 2
}
